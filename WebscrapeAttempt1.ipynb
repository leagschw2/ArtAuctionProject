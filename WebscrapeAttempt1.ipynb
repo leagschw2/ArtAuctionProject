{
 "cells": [
  {
   "cell_type": "code",
   "execution_count": null,
   "metadata": {},
   "outputs": [],
   "source": [
    "# Selenium used to open and interact with a webpage\n",
    "# BeautifulSoup used to parse the HTML of the webpage (extracts data from the HTML)\n",
    "# Pandas used to store the data in a DataFrame"
   ]
  },
  {
   "cell_type": "code",
   "execution_count": 58,
   "metadata": {},
   "outputs": [],
   "source": [
    "from selenium import webdriver\n",
    "from selenium.webdriver.chrome.service import Service\n",
    "from selenium.webdriver.common.by import By\n",
    "from selenium.webdriver.chrome.options import Options\n",
    "from selenium.webdriver.support.ui import WebDriverWait\n",
    "from selenium.webdriver.support import expected_conditions as EC\n",
    "from bs4 import BeautifulSoup\n",
    "from urllib.parse import urljoin\n",
    "\n",
    "import time\n",
    "import pandas as pd\n",
    "\n"
   ]
  },
  {
   "cell_type": "code",
   "execution_count": 63,
   "metadata": {},
   "outputs": [],
   "source": [
    "options = webdriver.ChromeOptions()\n",
    "options.add_argument('--headless=new')\n",
    "driver = webdriver.Chrome(options=options)"
   ]
  },
  {
   "cell_type": "code",
   "execution_count": 62,
   "metadata": {},
   "outputs": [],
   "source": [
    "driver.quit()"
   ]
  },
  {
   "cell_type": "code",
   "execution_count": 54,
   "metadata": {},
   "outputs": [
    {
     "name": "stdout",
     "output_type": "stream",
     "text": [
      "Page 1: Collected 50 entries.\n",
      "Clicking 'Next' button to go to page 2...\n",
      "Page 2: Collected 50 entries.\n",
      "No 'Next' button found after Page 2. Scraping complete.\n",
      "Total auction results collected: 100\n"
     ]
    }
   ],
   "source": [
    "# Function to scrape all auction results for an artist\n",
    "def scrape_all_pages(artist_name):\n",
    "    formatted_name = artist_name.lower().replace(\" \", \"-\")\n",
    "    url = f\"https://www.artsy.net/artist/{formatted_name}/auction-results\"\n",
    "    driver.get(url)\n",
    "    \n",
    "    time.sleep(5)  # Give the page time to load\n",
    "\n",
    "    all_work = []\n",
    "    page_count = 1\n",
    "\n",
    "    while True:\n",
    "        # Parse current page with BeautifulSoup\n",
    "        soup = BeautifulSoup(driver.page_source, \"html.parser\")\n",
    "\n",
    "        # Find all auction entries on this page\n",
    "        auction_entries = soup.find_all(\"a\", class_=\"RouterLink__RouterAwareLink-sc-c712443b-0 laGLjt\")\n",
    "        all_work.extend(auction_entries)\n",
    "        \n",
    "        print(f\"Page {page_count}: Collected {len(auction_entries)} entries.\")\n",
    "\n",
    "        # **Step 1: Check if \"Next\" button exists and is visible**\n",
    "        try:\n",
    "            next_button = WebDriverWait(driver, 10).until(\n",
    "                EC.presence_of_element_located((By.XPATH, \"//a[@data-testid='next']\"))\n",
    "            )\n",
    "\n",
    "            # Ensure the button is visible before clicking\n",
    "            WebDriverWait(driver, 10).until(\n",
    "                EC.visibility_of_element_located((By.XPATH, \"//a[@data-testid='next']\"))\n",
    "            )\n",
    "        except:\n",
    "            print(f\"No 'Next' button found after Page {page_count}. Scraping complete.\")\n",
    "            break  # Exit loop if no more pages\n",
    "\n",
    "        # **Step 2: Click \"Next\" button and go to the next page**\n",
    "        try:\n",
    "            print(f\"Clicking 'Next' button to go to page {page_count + 1}...\")  \n",
    "\n",
    "            # Fix: Re-locate button dynamically\n",
    "            next_button = driver.find_element(By.XPATH, \"//a[@data-testid='next']\")\n",
    "\n",
    "            # Fix: Use JavaScript click to bypass any overlay issues\n",
    "            driver.execute_script(\"arguments[0].click();\", next_button)  \n",
    "            time.sleep(8)  # Allow the new page to fully load\n",
    "\n",
    "            # Fix: Ensure a **new set of auction results** has loaded\n",
    "            WebDriverWait(driver, 10).until(\n",
    "                EC.presence_of_element_located((By.XPATH, \"//a[contains(@class, 'RouterLink__RouterAwareLink')]\"))\n",
    "            )\n",
    "\n",
    "            page_count += 1\n",
    "        except Exception as e:\n",
    "            print(f\"Error clicking 'Next' button on Page {page_count}: {e}\")\n",
    "            break  # Exit loop if the Next button cannot be clicked\n",
    "\n",
    "    return all_work  # Return all collected auction entries\n",
    "\n",
    "# Example usage\n",
    "artist_name = \"Titian\"\n",
    "all_entries = scrape_all_pages(artist_name)\n",
    "print(f\"Total auction results collected: {len(all_entries)}\")"
   ]
  }
 ],
 "metadata": {
  "kernelspec": {
   "display_name": "ArtAuction",
   "language": "python",
   "name": "python3"
  },
  "language_info": {
   "codemirror_mode": {
    "name": "ipython",
    "version": 3
   },
   "file_extension": ".py",
   "mimetype": "text/x-python",
   "name": "python",
   "nbconvert_exporter": "python",
   "pygments_lexer": "ipython3",
   "version": "3.10.16"
  }
 },
 "nbformat": 4,
 "nbformat_minor": 2
}
